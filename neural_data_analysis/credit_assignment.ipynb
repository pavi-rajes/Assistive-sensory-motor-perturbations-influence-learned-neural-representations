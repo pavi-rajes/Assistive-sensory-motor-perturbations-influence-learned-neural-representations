{
 "cells": [
  {
   "cell_type": "code",
   "execution_count": 1,
   "metadata": {},
   "outputs": [],
   "source": [
    "import os \n",
    "import numpy as np \n",
    "import pickle\n",
    "from tqdm import tqdm \n",
    "import pandas as pd \n",
    "import seaborn as sns \n",
    "import matplotlib.pyplot as plt \n",
    "import copy\n",
    "\n",
    "\n",
    "from sklearn.utils import resample, shuffle\n",
    "from sklearn.linear_model import LogisticRegression\n",
    "import numpy as np\n",
    "from sklearn.model_selection import PredefinedSplit\n",
    "from scipy.optimize import curve_fit\n"
   ]
  },
  {
   "cell_type": "code",
   "execution_count": 13,
   "metadata": {},
   "outputs": [],
   "source": [
    "# functions \n",
    "###### helper functions ####### \n",
    "def pkl_read(file_to_read, write_dir):\n",
    "  os.chdir(write_dir)\n",
    "  this = pickle.load(open(file_to_read, \"rb\"))\n",
    "  # print(this)\n",
    "  return this\n",
    "\n",
    "def pkl_write(file_to_write, values_to_dump, write_dir):\n",
    "  os.chdir(write_dir)\n",
    "  with open(file_to_write, 'wb') as pickle_file:\n",
    "      pickle.dump(values_to_dump, pickle_file)\n",
    "\n",
    "def getdata_day(data,id,data_day):\n",
    "  if id == 1:\n",
    "    # var_name = data[0:data_day[id]+1,:,:]\n",
    "    var_name = data[0:data_day[id],:,:]\n",
    "  else:\n",
    "    day_idx = np.where(np.array(list(data_day))== id)[0].astype(int) - 1\n",
    "    #print(day_idx[0])\n",
    "    prev_day_id = list(data_day)[day_idx[0]]\n",
    "    #print(prev_day_id)\n",
    "    var_name = data[data_day[prev_day_id]:data_day[id],:,:]\n",
    "  return var_name\n",
    "\n",
    "def gettarget_day(target_direction, id, day):\n",
    "    if id == 1: \n",
    "      target = target_direction[:day[id]]\n",
    "    else:\n",
    "      day_idx = np.where(np.array(list(day))== id)[0].astype(int) - 1\n",
    "      #print(day_idx[0])\n",
    "      prev_day_id = list(day)[day_idx[0]]\n",
    "      target = target_direction[day[prev_day_id]:day[id]] \n",
    "    return target\n",
    "\n",
    "def get_numtrials_perday(datasize_day):\n",
    "    '''\n",
    "    datasize_day: dictionary with key as day and value as end trial index for that day . Comes from getdata_day()\n",
    "    '''\n",
    "    num_trials_perday = np.zeros(len(datasize_day))\n",
    "    num_trials_perday[0] = np.array(list(datasize_day.values()))[0]\n",
    "    num_trials_perday[1:] = np.diff(np.array(list(datasize_day.values())))\n",
    "    # print(num_trials_perday)\n",
    "    return num_trials_perday\n",
    "\n",
    "def trial_concatenate_data(data):\n",
    "    '''\n",
    "    data is on shape n_trials x n_units x n_bins \n",
    "    '''\n",
    "    n,u,t = data.shape\n",
    "    new_arr = np.transpose(data, (0,2,1))\n",
    "    new_arr = new_arr.reshape(n*t, u)\n",
    "    # print(new_arr.shape)\n",
    "    return new_arr \n",
    "\n",
    "###### LR analysis functions #########\n",
    "\n",
    "def get_equal_target_dist_predefinedsplit(idx, target, n_samples_per_target):\n",
    "  random_idx = []\n",
    "  for it in range(8):\n",
    "    this_idx = np.where(target== it+1)\n",
    "    \n",
    "    r_idx = np.random.choice(this_idx[0], n_samples_per_target, replace = False)\n",
    "    # print(r_idx)\n",
    "    random_idx.append(r_idx)\n",
    "  # print(np.shape(random_idx))\n",
    "  rand_idx = np.array(random_idx).reshape(n_samples_per_target*8)\n",
    "  ps = np.zeros(len(target))\n",
    "  ps[rand_idx] = -1 # index for training \n",
    "  # ps[ps == 0] = 1 # index for test set\n",
    "\n",
    "  # to genereate 2 fold cross validation\n",
    "  test_idx = np.argwhere(~np.in1d(np.arange(len(ps)), rand_idx))\n",
    "  first_fold = test_idx[:len(test_idx)//2]\n",
    "  second_fold = test_idx[len(test_idx)//2:]\n",
    "  ps[first_fold] = 0   # index for test set for fold 1\n",
    "  ps[second_fold] = 1 # index for test set for fold 2\n",
    "  print(ps[ps == -1].shape, ps[ps == 0].shape, ps[ps == 1].shape)\n",
    "  return ps\n",
    "\n",
    "def flatten_data(data):\n",
    "    # Flattens the last two dimensions of the data\n",
    "    return data.reshape(data.shape[0], -1)\n",
    "\n",
    "\n",
    "def matrix_similarity(A, B):\n",
    "    \"\"\"\n",
    "    Compute the R^2 similarity between two matrices by treating them as vectors.\n",
    "\n",
    "    Args:\n",
    "    - A: First 2D matrix.\n",
    "    - B: Second 2D matrix.\n",
    "\n",
    "    Returns:\n",
    "    - R^2 value representing the similarity between the matrices.\n",
    "    \"\"\"\n",
    "    assert A.shape == B.shape, \"Matrices must have the same shape\"\n",
    "\n",
    "    # Flatten the matrices to vectors\n",
    "    A_flat = A.ravel()\n",
    "    B_flat = B.ravel()\n",
    "\n",
    "    # Compute the correlation coefficient\n",
    "    correlation_matrix = np.corrcoef(A_flat, B_flat)\n",
    "    r = correlation_matrix[0, 1]\n",
    "    \n",
    "    # Square the correlation coefficient to get R^2 value\n",
    "    r2 = r #**2\n",
    "    return r2\n",
    "\n"
   ]
  },
  {
   "cell_type": "code",
   "execution_count": 24,
   "metadata": {},
   "outputs": [],
   "source": [
    "neural_recordings = pkl_read('neural_data.pkl', '.') # Shape: n_tr x n_units x n_timebins; top 16 units are readouts \n",
    "target_direction = pkl_read('target_labels.pkl', '.')\n",
    "datasize_day = pkl_read('trial_day_label.pkl', '.')\n",
    "\n",
    "days = [2,3,4,5,6,7] # just for example. In the paper, we considered all days that had a minimum of 25 trials of successful reaches per target direction, minimum 200 trials in total.  \n",
    "n_readouts = 20\n",
    "decoder_change_days = [0,0,0,0,0,1]\n",
    "unit_swap_day = [0,0,0,0,0,0]"
   ]
  },
  {
   "cell_type": "code",
   "execution_count": 25,
   "metadata": {},
   "outputs": [],
   "source": [
    "from sklearn.pipeline import Pipeline\n",
    "from sklearn.model_selection import PredefinedSplit\n",
    "from sklearn.preprocessing import StandardScaler\n",
    "from sklearn import model_selection\n",
    "from sklearn.model_selection import train_test_split\n",
    "from sklearn import linear_model\n",
    "\n",
    "def run_logistic_model_acrossdays(neural_recordings, target_direction, days_wtrials, n_bs, label = 'readout'):\n",
    "    n_target = 8 \n",
    "    n_days_wtrials = len(days)\n",
    "    n_neurons = neural_recordings.shape[1]\n",
    "    n_timebins = neural_recordings.shape[2]\n",
    "    dec_change = np.in1d(days, decoder_change_days)\n",
    "    unit_swap = np.in1d(days, unit_swap_day)\n",
    "\n",
    "    # store analysis results\n",
    "    accu = pd.DataFrame()\n",
    "\n",
    "    coef_norm = np.zeros((n_bs, n_days_wtrials))\n",
    "    delta_coef = np.zeros((n_bs, n_neurons))\n",
    "    r2_coef = np.zeros((n_bs, n_days_wtrials))\n",
    "\n",
    "    # try:\n",
    "    # per draw \n",
    "    for idraw in tqdm(range(n_bs)): \n",
    "            \n",
    "        accuracy_draw = np.zeros(n_days_wtrials) \n",
    "        coef_draw = np.zeros((n_days_wtrials, n_target, n_neurons * n_timebins ))\n",
    "\n",
    "        for id, iday in tqdm(enumerate(days)): \n",
    "            # per day\n",
    "            data = getdata_day(neural_recordings,iday, datasize_day )\n",
    "            target = gettarget_day(target_direction, iday, datasize_day)\n",
    "            # print(np.unique(target))\n",
    "    \n",
    "            data_flat = flatten_data(data) # Concatenating the third dimension trials x neurons x time --> trials x (neuron *time)\n",
    "\n",
    "            # Trial selection to maintain same size of data each day \n",
    "            idx = np.arange(0,len(data),1)\n",
    "            test_fold = get_equal_target_dist_predefinedsplit(idx,target, 25) # function that returns 200 random trials ids with equal distribution of target directions in the dataset \n",
    "            ps = PredefinedSplit(test_fold)\n",
    "\n",
    "            # Initializing a linear model \n",
    "            # Logistic Regression Model\n",
    "            my_model = linear_model.LogisticRegression(penalty = 'l2', max_iter=1000, C = 1)\n",
    "\n",
    "        \n",
    "            # Creating a pipeline\n",
    "            pipe = Pipeline([\n",
    "                ('scale', StandardScaler()), \n",
    "                ('logistic', my_model)\n",
    "            ]) \n",
    "            #cross validate coef\n",
    "            cv_results = model_selection.cross_validate(pipe, data_flat, target, cv= ps, return_estimator=True)\n",
    "            # accuracy_draw[id] = cv_results['test_score']\n",
    "            accuracy_draw[id] = np.mean(cv_results['test_score'])\n",
    "            \n",
    "            # Iterating over the estimators to access the logistic regression coefficients\n",
    "            for idx, estimator in enumerate(cv_results['estimator']):\n",
    "                coef_draw[id,:,:] = estimator.named_steps['logistic'].coef_\n",
    "                if id > 0:\n",
    "                    r2_coef[idraw,id] =  matrix_similarity(coef_draw[id,:,:], coef_draw[id-1,:,:])\n",
    "\n",
    "        accu = pd.concat([accu, pd.DataFrame({'prediction accuracy': accuracy_draw,'day':days,'label': label, 'decoder_change':dec_change, 'unit_swap': unit_swap })], ignore_index=True) \n",
    "\n",
    "    return accu, r2_coef \n"
   ]
  },
  {
   "cell_type": "code",
   "execution_count": 26,
   "metadata": {},
   "outputs": [
    {
     "name": "stderr",
     "output_type": "stream",
     "text": [
      "  0%|          | 0/5 [00:00<?, ?it/s]"
     ]
    },
    {
     "name": "stdout",
     "output_type": "stream",
     "text": [
      "(200,) (238,) (238,)\n",
      "(200,) (199,) (200,)\n",
      "(200,) (409,) (410,)\n",
      "(200,) (261,) (262,)\n"
     ]
    },
    {
     "name": "stderr",
     "output_type": "stream",
     "text": [
      "6it [00:00, 16.81it/s]\n",
      " 20%|██        | 1/5 [00:00<00:01,  2.78it/s]"
     ]
    },
    {
     "name": "stdout",
     "output_type": "stream",
     "text": [
      "(200,) (59,) (60,)\n",
      "(200,) (437,) (437,)\n"
     ]
    },
    {
     "name": "stderr",
     "output_type": "stream",
     "text": []
    },
    {
     "name": "stdout",
     "output_type": "stream",
     "text": [
      "(200,) (238,) (238,)\n",
      "(200,) (199,) (200,)\n"
     ]
    },
    {
     "name": "stderr",
     "output_type": "stream",
     "text": []
    },
    {
     "name": "stdout",
     "output_type": "stream",
     "text": [
      "(200,) (409,) (410,)\n",
      "(200,) (261,) (262,)\n",
      "(200,) (59,) (60,)\n",
      "(200,) (437,) (437,)\n"
     ]
    },
    {
     "name": "stderr",
     "output_type": "stream",
     "text": [
      "6it [00:00, 17.15it/s]\n",
      " 40%|████      | 2/5 [00:00<00:01,  2.81it/s]"
     ]
    },
    {
     "name": "stdout",
     "output_type": "stream",
     "text": [
      "(200,) (238,) (238,)\n",
      "(200,) (199,) (200,)\n"
     ]
    },
    {
     "name": "stderr",
     "output_type": "stream",
     "text": []
    },
    {
     "name": "stdout",
     "output_type": "stream",
     "text": [
      "(200,) (409,) (410,)\n",
      "(200,) (261,) (262,)\n",
      "(200,) (59,) (60,)\n",
      "(200,) (437,) (437,)\n"
     ]
    },
    {
     "name": "stderr",
     "output_type": "stream",
     "text": [
      "6it [00:00, 16.82it/s]\n",
      " 60%|██████    | 3/5 [00:01<00:00,  2.80it/s]"
     ]
    },
    {
     "name": "stdout",
     "output_type": "stream",
     "text": [
      "(200,) (238,) (238,)\n",
      "(200,) (199,) (200,)\n"
     ]
    },
    {
     "name": "stderr",
     "output_type": "stream",
     "text": []
    },
    {
     "name": "stdout",
     "output_type": "stream",
     "text": [
      "(200,) (409,) (410,)\n",
      "(200,) (261,) (262,)\n",
      "(200,) (59,) (60,)\n",
      "(200,) (437,) (437,)\n"
     ]
    },
    {
     "name": "stderr",
     "output_type": "stream",
     "text": [
      "6it [00:00, 18.71it/s]\n",
      " 80%|████████  | 4/5 [00:01<00:00,  2.91it/s]"
     ]
    },
    {
     "name": "stdout",
     "output_type": "stream",
     "text": [
      "(200,) (238,) (238,)\n",
      "(200,) (199,) (200,)\n",
      "(200,) (409,) (410,)\n",
      "(200,) (261,) (262,)\n"
     ]
    },
    {
     "name": "stderr",
     "output_type": "stream",
     "text": []
    },
    {
     "name": "stdout",
     "output_type": "stream",
     "text": [
      "(200,) (59,) (60,)\n",
      "(200,) (437,) (437,)\n"
     ]
    },
    {
     "name": "stderr",
     "output_type": "stream",
     "text": [
      "6it [00:00, 15.46it/s]\n",
      "100%|██████████| 5/5 [00:01<00:00,  2.80it/s]\n"
     ]
    },
    {
     "name": "stdout",
     "output_type": "stream",
     "text": [
      "(12730, 20, 18)\n"
     ]
    },
    {
     "name": "stderr",
     "output_type": "stream",
     "text": [
      "  0%|          | 0/5 [00:00<?, ?it/s]"
     ]
    },
    {
     "name": "stdout",
     "output_type": "stream",
     "text": [
      "(200,) (238,) (238,)\n"
     ]
    },
    {
     "name": "stderr",
     "output_type": "stream",
     "text": []
    },
    {
     "name": "stdout",
     "output_type": "stream",
     "text": [
      "(200,) (199,) (200,)\n",
      "(200,) (409,) (410,)\n",
      "(200,) (261,) (262,)\n",
      "(200,) (59,) (60,)\n",
      "(200,) (437,) (437,)\n"
     ]
    },
    {
     "name": "stderr",
     "output_type": "stream",
     "text": [
      "6it [00:00, 23.36it/s]\n",
      " 20%|██        | 1/5 [00:00<00:01,  3.86it/s]"
     ]
    },
    {
     "name": "stdout",
     "output_type": "stream",
     "text": [
      "(200,) (238,) (238,)\n",
      "(200,) (199,) (200,)\n",
      "(200,) (409,) (410,)\n",
      "(200,) (261,) (262,)\n",
      "(200,) (59,) (60,)\n",
      "(200,) (437,) (437,)\n"
     ]
    },
    {
     "name": "stderr",
     "output_type": "stream",
     "text": [
      "6it [00:00, 26.74it/s]\n",
      " 40%|████      | 2/5 [00:00<00:00,  4.16it/s]"
     ]
    },
    {
     "name": "stdout",
     "output_type": "stream",
     "text": [
      "(200,) (238,) (238,)\n",
      "(200,) (199,) (200,)\n",
      "(200,) (409,) (410,)\n"
     ]
    },
    {
     "name": "stderr",
     "output_type": "stream",
     "text": []
    },
    {
     "name": "stdout",
     "output_type": "stream",
     "text": [
      "(200,) (261,) (262,)\n",
      "(200,) (59,) (60,)\n"
     ]
    },
    {
     "name": "stderr",
     "output_type": "stream",
     "text": [
      "6it [00:00, 24.23it/s]\n",
      " 60%|██████    | 3/5 [00:00<00:00,  4.08it/s]"
     ]
    },
    {
     "name": "stdout",
     "output_type": "stream",
     "text": [
      "(200,) (437,) (437,)\n"
     ]
    },
    {
     "name": "stderr",
     "output_type": "stream",
     "text": []
    },
    {
     "name": "stdout",
     "output_type": "stream",
     "text": [
      "(200,) (238,) (238,)\n",
      "(200,) (199,) (200,)\n",
      "(200,) (409,) (410,)\n"
     ]
    },
    {
     "name": "stderr",
     "output_type": "stream",
     "text": []
    },
    {
     "name": "stdout",
     "output_type": "stream",
     "text": [
      "(200,) (261,) (262,)\n",
      "(200,) (59,) (60,)\n",
      "(200,) (437,) (437,)\n"
     ]
    },
    {
     "name": "stderr",
     "output_type": "stream",
     "text": [
      "6it [00:00, 24.67it/s]\n",
      " 80%|████████  | 4/5 [00:00<00:00,  4.07it/s]"
     ]
    },
    {
     "name": "stdout",
     "output_type": "stream",
     "text": [
      "(200,) (238,) (238,)\n",
      "(200,) (199,) (200,)\n",
      "(200,) (409,) (410,)\n"
     ]
    },
    {
     "name": "stderr",
     "output_type": "stream",
     "text": []
    },
    {
     "name": "stdout",
     "output_type": "stream",
     "text": [
      "(200,) (261,) (262,)\n",
      "(200,) (59,) (60,)\n",
      "(200,) (437,) (437,)\n"
     ]
    },
    {
     "name": "stderr",
     "output_type": "stream",
     "text": [
      "6it [00:00, 26.46it/s]\n",
      "100%|██████████| 5/5 [00:01<00:00,  4.12it/s]\n"
     ]
    },
    {
     "name": "stdout",
     "output_type": "stream",
     "text": [
      "(12730, 35, 18)\n"
     ]
    },
    {
     "name": "stderr",
     "output_type": "stream",
     "text": [
      "  0%|          | 0/5 [00:00<?, ?it/s]"
     ]
    },
    {
     "name": "stdout",
     "output_type": "stream",
     "text": [
      "(200,) (238,) (238,)\n",
      "(200,) (199,) (200,)\n"
     ]
    },
    {
     "name": "stderr",
     "output_type": "stream",
     "text": []
    },
    {
     "name": "stdout",
     "output_type": "stream",
     "text": [
      "(200,) (409,) (410,)\n",
      "(200,) (261,) (262,)\n"
     ]
    },
    {
     "name": "stderr",
     "output_type": "stream",
     "text": []
    },
    {
     "name": "stdout",
     "output_type": "stream",
     "text": [
      "(200,) (59,) (60,)\n",
      "(200,) (437,) (437,)\n"
     ]
    },
    {
     "name": "stderr",
     "output_type": "stream",
     "text": [
      "6it [00:00, 18.67it/s]\n",
      " 20%|██        | 1/5 [00:00<00:01,  3.09it/s]"
     ]
    },
    {
     "name": "stdout",
     "output_type": "stream",
     "text": [
      "(200,) (238,) (238,)\n",
      "(200,) (199,) (200,)\n",
      "(200,) (409,) (410,)\n"
     ]
    },
    {
     "name": "stderr",
     "output_type": "stream",
     "text": []
    },
    {
     "name": "stdout",
     "output_type": "stream",
     "text": [
      "(200,) (261,) (262,)\n",
      "(200,) (59,) (60,)\n"
     ]
    },
    {
     "name": "stderr",
     "output_type": "stream",
     "text": [
      "6it [00:00, 20.50it/s]\n",
      " 40%|████      | 2/5 [00:00<00:00,  3.25it/s]"
     ]
    },
    {
     "name": "stdout",
     "output_type": "stream",
     "text": [
      "(200,) (437,) (437,)\n"
     ]
    },
    {
     "name": "stderr",
     "output_type": "stream",
     "text": []
    },
    {
     "name": "stdout",
     "output_type": "stream",
     "text": [
      "(200,) (238,) (238,)\n",
      "(200,) (199,) (200,)\n",
      "(200,) (409,) (410,)\n"
     ]
    },
    {
     "name": "stderr",
     "output_type": "stream",
     "text": []
    },
    {
     "name": "stdout",
     "output_type": "stream",
     "text": [
      "(200,) (261,) (262,)\n",
      "(200,) (59,) (60,)\n",
      "(200,) (437,) (437,)\n"
     ]
    },
    {
     "name": "stderr",
     "output_type": "stream",
     "text": [
      "6it [00:00, 19.52it/s]\n",
      " 60%|██████    | 3/5 [00:00<00:00,  3.24it/s]"
     ]
    },
    {
     "name": "stdout",
     "output_type": "stream",
     "text": [
      "(200,) (238,) (238,)\n",
      "(200,) (199,) (200,)\n",
      "(200,) (409,) (410,)\n"
     ]
    },
    {
     "name": "stderr",
     "output_type": "stream",
     "text": []
    },
    {
     "name": "stdout",
     "output_type": "stream",
     "text": [
      "(200,) (261,) (262,)\n",
      "(200,) (59,) (60,)\n"
     ]
    },
    {
     "name": "stderr",
     "output_type": "stream",
     "text": [
      "6it [00:00, 23.72it/s]\n",
      " 80%|████████  | 4/5 [00:01<00:00,  3.47it/s]"
     ]
    },
    {
     "name": "stdout",
     "output_type": "stream",
     "text": [
      "(200,) (437,) (437,)\n"
     ]
    },
    {
     "name": "stderr",
     "output_type": "stream",
     "text": []
    },
    {
     "name": "stdout",
     "output_type": "stream",
     "text": [
      "(200,) (238,) (238,)\n",
      "(200,) (199,) (200,)\n",
      "(200,) (409,) (410,)\n"
     ]
    },
    {
     "name": "stderr",
     "output_type": "stream",
     "text": []
    },
    {
     "name": "stdout",
     "output_type": "stream",
     "text": [
      "(200,) (261,) (262,)\n",
      "(200,) (59,) (60,)\n",
      "(200,) (437,) (437,)\n"
     ]
    },
    {
     "name": "stderr",
     "output_type": "stream",
     "text": [
      "6it [00:00, 19.70it/s]\n",
      "100%|██████████| 5/5 [00:01<00:00,  3.35it/s]\n"
     ]
    },
    {
     "data": {
      "text/html": [
       "<div>\n",
       "<style scoped>\n",
       "    .dataframe tbody tr th:only-of-type {\n",
       "        vertical-align: middle;\n",
       "    }\n",
       "\n",
       "    .dataframe tbody tr th {\n",
       "        vertical-align: top;\n",
       "    }\n",
       "\n",
       "    .dataframe thead th {\n",
       "        text-align: right;\n",
       "    }\n",
       "</style>\n",
       "<table border=\"1\" class=\"dataframe\">\n",
       "  <thead>\n",
       "    <tr style=\"text-align: right;\">\n",
       "      <th></th>\n",
       "      <th>prediction accuracy</th>\n",
       "      <th>day</th>\n",
       "      <th>label</th>\n",
       "      <th>decoder_change</th>\n",
       "      <th>unit_swap</th>\n",
       "    </tr>\n",
       "  </thead>\n",
       "  <tbody>\n",
       "    <tr>\n",
       "      <th>0</th>\n",
       "      <td>0.760504</td>\n",
       "      <td>2</td>\n",
       "      <td>all</td>\n",
       "      <td>False</td>\n",
       "      <td>False</td>\n",
       "    </tr>\n",
       "    <tr>\n",
       "      <th>1</th>\n",
       "      <td>0.744397</td>\n",
       "      <td>3</td>\n",
       "      <td>all</td>\n",
       "      <td>False</td>\n",
       "      <td>False</td>\n",
       "    </tr>\n",
       "    <tr>\n",
       "      <th>2</th>\n",
       "      <td>0.776570</td>\n",
       "      <td>4</td>\n",
       "      <td>all</td>\n",
       "      <td>False</td>\n",
       "      <td>False</td>\n",
       "    </tr>\n",
       "    <tr>\n",
       "      <th>3</th>\n",
       "      <td>0.774341</td>\n",
       "      <td>5</td>\n",
       "      <td>all</td>\n",
       "      <td>False</td>\n",
       "      <td>False</td>\n",
       "    </tr>\n",
       "    <tr>\n",
       "      <th>4</th>\n",
       "      <td>0.772881</td>\n",
       "      <td>6</td>\n",
       "      <td>all</td>\n",
       "      <td>False</td>\n",
       "      <td>False</td>\n",
       "    </tr>\n",
       "    <tr>\n",
       "      <th>...</th>\n",
       "      <td>...</td>\n",
       "      <td>...</td>\n",
       "      <td>...</td>\n",
       "      <td>...</td>\n",
       "      <td>...</td>\n",
       "    </tr>\n",
       "    <tr>\n",
       "      <th>85</th>\n",
       "      <td>0.506307</td>\n",
       "      <td>3</td>\n",
       "      <td>nonreadout</td>\n",
       "      <td>False</td>\n",
       "      <td>False</td>\n",
       "    </tr>\n",
       "    <tr>\n",
       "      <th>86</th>\n",
       "      <td>0.590933</td>\n",
       "      <td>4</td>\n",
       "      <td>nonreadout</td>\n",
       "      <td>False</td>\n",
       "      <td>False</td>\n",
       "    </tr>\n",
       "    <tr>\n",
       "      <th>87</th>\n",
       "      <td>0.550620</td>\n",
       "      <td>5</td>\n",
       "      <td>nonreadout</td>\n",
       "      <td>False</td>\n",
       "      <td>False</td>\n",
       "    </tr>\n",
       "    <tr>\n",
       "      <th>88</th>\n",
       "      <td>0.596469</td>\n",
       "      <td>6</td>\n",
       "      <td>nonreadout</td>\n",
       "      <td>False</td>\n",
       "      <td>False</td>\n",
       "    </tr>\n",
       "    <tr>\n",
       "      <th>89</th>\n",
       "      <td>0.598398</td>\n",
       "      <td>7</td>\n",
       "      <td>nonreadout</td>\n",
       "      <td>False</td>\n",
       "      <td>False</td>\n",
       "    </tr>\n",
       "  </tbody>\n",
       "</table>\n",
       "<p>90 rows × 5 columns</p>\n",
       "</div>"
      ],
      "text/plain": [
       "    prediction accuracy  day       label  decoder_change  unit_swap\n",
       "0              0.760504    2         all           False      False\n",
       "1              0.744397    3         all           False      False\n",
       "2              0.776570    4         all           False      False\n",
       "3              0.774341    5         all           False      False\n",
       "4              0.772881    6         all           False      False\n",
       "..                  ...  ...         ...             ...        ...\n",
       "85             0.506307    3  nonreadout           False      False\n",
       "86             0.590933    4  nonreadout           False      False\n",
       "87             0.550620    5  nonreadout           False      False\n",
       "88             0.596469    6  nonreadout           False      False\n",
       "89             0.598398    7  nonreadout           False      False\n",
       "\n",
       "[90 rows x 5 columns]"
      ]
     },
     "metadata": {},
     "output_type": "display_data"
    }
   ],
   "source": [
    "label = 'all'\n",
    "n_bs = 5\n",
    "accu_all,r2_coef = run_logistic_model_acrossdays(neural_recordings, target_direction, datasize_day, n_bs, label = 'all')\n",
    "\n",
    "neural_recordings_readout = neural_recordings[:,:n_readouts, :]\n",
    "print(neural_recordings_readout.shape)\n",
    "accu_r, r2_r = run_logistic_model_acrossdays(neural_recordings_readout, target_direction, datasize_day, n_bs, label = 'readout')\n",
    "\n",
    "neural_recordings_nonreadout = neural_recordings[:,n_readouts:, :]\n",
    "print(neural_recordings_nonreadout.shape)\n",
    "accu_nr, r2_nr = run_logistic_model_acrossdays(neural_recordings_nonreadout, target_direction, datasize_day, n_bs, label = 'nonreadout')\n",
    "\n",
    "## Concatenate and save prediction accuracy across days for all three neural populations \n",
    "accu = pd.concat([accu_all, accu_r, accu_nr], ignore_index = True)\n",
    "display(accu)\n",
    "\n"
   ]
  },
  {
   "cell_type": "code",
   "execution_count": 30,
   "metadata": {},
   "outputs": [
    {
     "data": {
      "text/plain": [
       "Text(0.5, 8.844444444444443, 'Days')"
      ]
     },
     "execution_count": 30,
     "metadata": {},
     "output_type": "execute_result"
    },
    {
     "data": {
      "text/plain": [
       "<Figure size 900x600 with 0 Axes>"
      ]
     },
     "metadata": {},
     "output_type": "display_data"
    },
    {
     "data": {
      "image/png": "[encoded data removed]",
      "text/plain": [
       "<Figure size 437.5x350 with 1 Axes>"
      ]
     },
     "metadata": {},
     "output_type": "display_data"
    }
   ],
   "source": [
    "# accu = pd.read_csv(df_name)\n",
    "sns.set_context('paper')\n",
    "plt.figure(figsize = (3,2), dpi = 300)\n",
    "g = sns.catplot(data = accu, x='day',y = 'prediction accuracy', errorbar='ci', hue = 'label', kind = 'point',legend= False,  legend_out = False, height = 3.5, aspect = 3.5/2.8, palette=sns.color_palette(['dimgrey', 'indianred', 'tab:blue']))\n",
    "plt.ylabel('Decode accuracy')\n",
    "plt.xlabel('Days')"
   ]
  }
 ],
 "metadata": {
  "kernelspec": {
   "display_name": "neural_data_analysis",
   "language": "python",
   "name": "python3"
  },
  "language_info": {
   "codemirror_mode": {
    "name": "ipython",
    "version": 3
   },
   "file_extension": ".py",
   "mimetype": "text/x-python",
   "name": "python",
   "nbconvert_exporter": "python",
   "pygments_lexer": "ipython3",
   "version": "3.12.3"
  },
  "orig_nbformat": 4
 },
 "nbformat": 4,
 "nbformat_minor": 2
}
